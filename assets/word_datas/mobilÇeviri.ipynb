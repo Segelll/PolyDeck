{
 "cells": [
  {
   "cell_type": "code",
   "execution_count": 31,
   "id": "aa2c0dbd-ed35-40a6-b299-534cad7e1888",
   "metadata": {},
   "outputs": [
    {
     "name": "stdout",
     "output_type": "stream",
     "text": [
      "<class 'str'>\n"
     ]
    }
   ],
   "source": [
    "import json\n",
    "\n",
    "# Replace 'your_file.json' with the path to your JSON file\n",
    "file_path = 'english_words.json'\n",
    "\n",
    "# Open and read the JSON file\n",
    "with open(file_path, 'r') as file:\n",
    "    data = json.load(file)\n",
    "\n",
    "# Now, 'data' contains the parsed JSON data\n",
    "print(type(data[0][\"word\"]))\n"
   ]
  },
  {
   "cell_type": "code",
   "execution_count": 51,
   "id": "b9ad66e0-3a55-43ba-b630-aac7c2c9158b",
   "metadata": {},
   "outputs": [
    {
     "name": "stdout",
     "output_type": "stream",
     "text": [
      "Error translating whereby: Connection failed: HTTPSConnectionPool(host='api-free.deepl.com', port=443): Max retries exceeded with url: /v2/translate (Caused by ConnectTimeoutError(<urllib3.connection.HTTPSConnection object at 0x000002A629286870>, 'Connection to api-free.deepl.com timed out. (connect timeout=10.472817420959473)'))\n"
     ]
    }
   ],
   "source": [
    "import deepl\n",
    "translator = deepl.Translator(\"869319eb-3ee4-4f2a-a4f6-c63689652440:fx\")\n",
    "tr_list = []\n",
    "for i in range(len(data)):\n",
    "    en = data[i][\"word\"]\n",
    "    \n",
    "    try:\n",
    "        tr = translator.translate_text(en, target_lang=\"TR\")\n",
    "        tr_list.append(tr.text)\n",
    "    except Exception as e:\n",
    "        print(f\"Error translating {en}: {e}\")\n",
    "        tr_list.append(None)\n",
    "        "
   ]
  },
  {
   "cell_type": "code",
   "execution_count": 69,
   "id": "c1cb4cae-1f83-4cc9-ab48-e0f913cddecd",
   "metadata": {},
   "outputs": [
    {
     "name": "stdout",
     "output_type": "stream",
     "text": [
      "Data saved to turkish_words.json\n"
     ]
    }
   ],
   "source": [
    "file_path_tr = 'turkish_words.json'\n",
    "zipped_list = list(zip(tr_list, seviyeler))\n",
    "data_json = [{\"word\": kelime, \"level\": seviye} for kelime, seviye in zipped_list]\n",
    "\n",
    "# Write the data to a JSON file\n",
    "with open(file_path_tr, 'w') as json_file:\n",
    "    json.dump(data_json, json_file, indent=4)  # Use indent for pretty printing\n",
    "\n",
    "print(f\"Data saved to {file_path_tr}\")"
   ]
  }
 ],
 "metadata": {
  "kernelspec": {
   "display_name": "Python 3 (ipykernel)",
   "language": "python",
   "name": "python3"
  },
  "language_info": {
   "codemirror_mode": {
    "name": "ipython",
    "version": 3
   },
   "file_extension": ".py",
   "mimetype": "text/x-python",
   "name": "python",
   "nbconvert_exporter": "python",
   "pygments_lexer": "ipython3",
   "version": "3.12.4"
  }
 },
 "nbformat": 4,
 "nbformat_minor": 5
}
